{
 "cells": [
  {
   "cell_type": "markdown",
   "metadata": {
    "dotnet_interactive": {
     "language": "csharp"
    }
   },
   "source": [
    "# Comapare Scores\n",
    "Comapre the scores for Player against actual home and away Scores\n",
    "+ Correct Score = 4 Points\n",
    "+ Correct Team Won = 2 Points\n",
    "+ Wrong Team won = 0 Points\n",
    "+ Guessed a draw but not a draw = 0 Points\n",
    "+ Guessed a draw and is a draw but wrong score = 1 Points\n"
   ]
  },
  {
   "cell_type": "markdown",
   "metadata": {},
   "source": [
    "# Example Result - Not a Draw\n",
    "\n",
    "Home | Away |\n",
    ":----- | :----: \n",
    "3   | 1 |   \n",
    "\n",
    "### Player Guesses\n",
    "Home | Away | Result | Points\n",
    ":----- | :----: | :-----: | -----:\n",
    "3   | 1 | Correct Score | 4\n",
    "2  | 0  | Correct Team | 2\n",
    "2  | 2  | Draw but not a Draw | 0\n",
    "1  | 3  | Wrong Team Won| 0"
   ]
  }
 ],
 "metadata": {
  "kernelspec": {
   "display_name": ".NET (C#)",
   "language": "C#",
   "name": ".net-csharp"
  },
  "language_info": {
   "name": "C#"
  }
 },
 "nbformat": 4,
 "nbformat_minor": 2
}
