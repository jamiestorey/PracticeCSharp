{
 "cells": [
  {
   "cell_type": "markdown",
   "metadata": {
    "dotnet_interactive": {
     "language": "csharp"
    }
   },
   "source": [
    "# Comapare Scores\n",
    "Comapre the scores for Player against actual home and away Scores\n",
    "+ Correct Score = 4 Points\n",
    "+ Correct Team Won = 2 Points\n",
    "+ Wrong Team won = 0 Points\n",
    "+ Guessed a draw but not a draw = 0 Points\n",
    "+ Guessed a draw and is a draw but wrong score = 1 Points\n"
   ]
  },
  {
   "cell_type": "markdown",
   "metadata": {},
   "source": [
    "# Example Result - Not a Draw\n",
    "\n",
    "Home | Away |\n",
    ":----- | :----: \n",
    "3   | 1 |   \n",
    "\n",
    "### Player Guesses\n",
    "Home | Away | Result | Points\n",
    ":----- | :----: | :-----: | -----:\n",
    "3   | 1 | Correct Score | 4\n",
    "2  | 0  | Correct Team | 2\n",
    "2  | 2  | Draw but not a Draw | 0\n",
    "1  | 3  | Wrong Team Won| 0"
   ]
  },
  {
   "cell_type": "code",
   "execution_count": null,
   "metadata": {
    "dotnet_interactive": {
     "language": "csharp"
    }
   },
   "outputs": [],
   "source": [
    "\n",
    "\n",
    "//display(ExampleMatchResult);"
   ]
  },
  {
   "cell_type": "code",
   "execution_count": null,
   "metadata": {
    "dotnet_interactive": {
     "language": "csharp"
    }
   },
   "outputs": [],
   "source": [
    "struct PlayerGuess\n",
    "{\n",
    "    public int home_guess {get; set;}\n",
    "    public int away_guess {get; set;}\n",
    "}\n",
    "//Correct Score 3 - 1\n",
    "PlayerGuess ExampleCorrectGuess;\n",
    "ExampleCorrectGuess.home_guess = 3;\n",
    "ExampleCorrectGuess.away_guess = 1;\n",
    "\n",
    "//display(ExampleCorrectGuess);"
   ]
  },
  {
   "cell_type": "code",
   "execution_count": null,
   "metadata": {
    "dotnet_interactive": {
     "language": "csharp"
    }
   },
   "outputs": [],
   "source": [
    "PlayerGuess ExampleMatchResult;\n",
    "ExampleMatchResult.home_guess = 3;\n",
    "ExampleMatchResult.away_guess = 1;"
   ]
  },
  {
   "cell_type": "code",
   "execution_count": null,
   "metadata": {
    "dotnet_interactive": {
     "language": "csharp"
    }
   },
   "outputs": [],
   "source": [
    "PlayerGuess ExampleCorrectTeamGuess;\n",
    "ExampleCorrectTeamGuess.home_guess = 2;\n",
    "ExampleCorrectTeamGuess.away_guess = 0;"
   ]
  },
  {
   "cell_type": "code",
   "execution_count": null,
   "metadata": {
    "dotnet_interactive": {
     "language": "csharp"
    }
   },
   "outputs": [],
   "source": [
    "PlayerGuess ExampleDrawButNotADrawGuess;\n",
    "ExampleDrawButNotADrawGuess.home_guess = 2;\n",
    "ExampleDrawButNotADrawGuess.away_guess = 2;"
   ]
  },
  {
   "cell_type": "code",
   "execution_count": null,
   "metadata": {
    "dotnet_interactive": {
     "language": "csharp"
    }
   },
   "outputs": [],
   "source": [
    "PlayerGuess ExampleWrongTeamWonGuess;\n",
    "ExampleWrongTeamWonGuess.home_guess = 1;\n",
    "ExampleWrongTeamWonGuess.away_guess = 3;"
   ]
  },
  {
   "cell_type": "code",
   "execution_count": null,
   "metadata": {
    "dotnet_interactive": {
     "language": "csharp"
    }
   },
   "outputs": [
    {
     "name": "stdout",
     "output_type": "stream",
     "text": [
      "Example Match Result\r\n"
     ]
    },
    {
     "data": {
      "text/html": [
       "<table><thead><tr><th>home_guess</th><th>away_guess</th></tr></thead><tbody><tr><td><div class=\"dni-plaintext\">3</div></td><td><div class=\"dni-plaintext\">1</div></td></tr></tbody></table>"
      ]
     },
     "metadata": {},
     "output_type": "display_data"
    },
    {
     "name": "stdout",
     "output_type": "stream",
     "text": [
      "Example Correct Guess\r\n"
     ]
    },
    {
     "data": {
      "text/html": [
       "<table><thead><tr><th>home_guess</th><th>away_guess</th></tr></thead><tbody><tr><td><div class=\"dni-plaintext\">3</div></td><td><div class=\"dni-plaintext\">1</div></td></tr></tbody></table>"
      ]
     },
     "metadata": {},
     "output_type": "display_data"
    },
    {
     "name": "stdout",
     "output_type": "stream",
     "text": [
      "Example Correct Team Guess\r\n"
     ]
    },
    {
     "data": {
      "text/html": [
       "<table><thead><tr><th>home_guess</th><th>away_guess</th></tr></thead><tbody><tr><td><div class=\"dni-plaintext\">2</div></td><td><div class=\"dni-plaintext\">0</div></td></tr></tbody></table>"
      ]
     },
     "metadata": {},
     "output_type": "display_data"
    },
    {
     "name": "stdout",
     "output_type": "stream",
     "text": [
      "Example Draw but not a Draw Guess\r\n"
     ]
    },
    {
     "data": {
      "text/html": [
       "<table><thead><tr><th>home_guess</th><th>away_guess</th></tr></thead><tbody><tr><td><div class=\"dni-plaintext\">2</div></td><td><div class=\"dni-plaintext\">2</div></td></tr></tbody></table>"
      ]
     },
     "metadata": {},
     "output_type": "display_data"
    },
    {
     "name": "stdout",
     "output_type": "stream",
     "text": [
      "Example Wrong team Won Guess\r\n"
     ]
    },
    {
     "data": {
      "text/html": [
       "<table><thead><tr><th>home_guess</th><th>away_guess</th></tr></thead><tbody><tr><td><div class=\"dni-plaintext\">1</div></td><td><div class=\"dni-plaintext\">3</div></td></tr></tbody></table>"
      ]
     },
     "metadata": {},
     "output_type": "display_data"
    }
   ],
   "source": [
    "bool DisplayInfo = true;\n",
    "\n",
    "if (DisplayInfo)\n",
    "{\n",
    "Console.WriteLine(\"Example Match Result\");\n",
    "display(ExampleMatchResult);\n",
    "\n",
    "Console.WriteLine(\"Example Correct Guess\");\n",
    "display(ExampleCorrectGuess);\n",
    "\n",
    "Console.WriteLine(\"Example Correct Team Guess\");\n",
    "display(ExampleCorrectTeamGuess);\n",
    "\n",
    "Console.WriteLine(\"Example Draw but not a Draw Guess\");\n",
    "display(ExampleDrawButNotADrawGuess);\n",
    "\n",
    "Console.WriteLine(\"Example Wrong team Won Guess\");\n",
    "display(ExampleWrongTeamWonGuess);\n",
    "}\n",
    "else\n",
    "{\n",
    "    Console.WriteLine(\"Displaying Detailed Info is disabled\");\n",
    "}"
   ]
  },
  {
   "cell_type": "code",
   "execution_count": null,
   "metadata": {
    "dotnet_interactive": {
     "language": "csharp"
    }
   },
   "outputs": [
    {
     "data": {
      "text/html": [
       "<table><thead><tr><th><i>index</i></th><th>home_guess</th><th>away_guess</th></tr></thead><tbody><tr><td>0</td><td><div class=\"dni-plaintext\">3</div></td><td><div class=\"dni-plaintext\">1</div></td></tr><tr><td>1</td><td><div class=\"dni-plaintext\">2</div></td><td><div class=\"dni-plaintext\">0</div></td></tr><tr><td>2</td><td><div class=\"dni-plaintext\">2</div></td><td><div class=\"dni-plaintext\">2</div></td></tr><tr><td>3</td><td><div class=\"dni-plaintext\">1</div></td><td><div class=\"dni-plaintext\">3</div></td></tr></tbody></table>"
      ]
     },
     "metadata": {},
     "output_type": "display_data"
    }
   ],
   "source": [
    "bool IsGuessCorrect = ExampleCorrectGuess.Equals(ExampleMatchResult);\n",
    "List<PlayerGuess> ListOfGuesses = new List<PlayerGuess>()\n",
    "{\n",
    "    ExampleCorrectGuess,\n",
    "ExampleCorrectTeamGuess,\n",
    "ExampleDrawButNotADrawGuess,\n",
    "ExampleWrongTeamWonGuess\n",
    "};\n",
    "display(ListOfGuesses);\n"
   ]
  },
  {
   "cell_type": "code",
   "execution_count": null,
   "metadata": {
    "dotnet_interactive": {
     "language": "csharp"
    }
   },
   "outputs": [],
   "source": [
    " struct PointsToAward\n",
    "{\n",
    "    public static int CorrectScore = 4;\n",
    "    public static int CorrectTeamWon = 2;\n",
    "    public static int CorrectDrawScore = 5;\n",
    "    public static int IsADraw = 1;\n",
    "    public static int WrongTeamWon = 0;\n",
    "}"
   ]
  },
  {
   "cell_type": "code",
   "execution_count": null,
   "metadata": {
    "dotnet_interactive": {
     "language": "csharp"
    }
   },
   "outputs": [],
   "source": [
    "int CheckGuess(PlayerGuess matchResult, PlayerGuess aPlayerGuess)\n",
    "{\n",
    "    if (matchResult.Equals(aPlayerGuess))\n",
    "    {\n",
    "        Console.WriteLine(\"Congratulations you guessed the correct score!\");\n",
    "        return PointsToAward.CorrectScore;\n",
    "    }\n",
    "\n",
    "    //ToDo - CorrectTeam Won\n",
    "\n",
    "    //ToDo - CorrectDrawScore Home team == Away team && guess away == guess home or just redundant because .Equals covers it ha :)\n",
    "\n",
    "    //ToDo - IsADraw Home team == Away team\n",
    "\n",
    "    //ToDo - WrongTeamWon - Home tram > Away Team etc...\n",
    "\n",
    "    Console.WriteLine(\"Sorry you didn't win any points\");\n",
    "    return 0;\n",
    "}"
   ]
  },
  {
   "cell_type": "code",
   "execution_count": null,
   "metadata": {
    "dotnet_interactive": {
     "language": "csharp"
    }
   },
   "outputs": [
    {
     "name": "stdout",
     "output_type": "stream",
     "text": [
      "Congratulations you guessed the correct score!\r\n"
     ]
    }
   ],
   "source": [
    "CheckGuess(ExampleMatchResult, ExampleCorrectGuess);"
   ]
  }
 ],
 "metadata": {
  "kernelspec": {
   "display_name": ".NET (C#)",
   "language": "C#",
   "name": ".net-csharp"
  },
  "language_info": {
   "name": "C#"
  }
 },
 "nbformat": 4,
 "nbformat_minor": 2
}
