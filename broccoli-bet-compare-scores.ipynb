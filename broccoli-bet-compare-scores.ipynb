{
 "cells": [
  {
   "cell_type": "markdown",
   "metadata": {
    "dotnet_interactive": {
     "language": "csharp"
    }
   },
   "source": [
    "# Comapare Scores\n",
    "Comapre the scores for Player against actual home and away Scores\n",
    "+ Correct Score = 4 Points\n",
    "+ Correct Team Won = 2 Points\n",
    "+ Wrong Team won = 0 Points\n",
    "+ Guessed a draw but not a draw = 0 Points\n",
    "+ Guessed a draw and is a draw but wrong score = 1 Points\n"
   ]
  },
  {
   "cell_type": "markdown",
   "metadata": {},
   "source": [
    "# Example Result - Not a Draw\n",
    "\n",
    "Home | Away |\n",
    ":----- | :----: \n",
    "3   | 1 |   \n",
    "\n",
    "### Player Guesses\n",
    "Home | Away | Result | Points\n",
    ":----- | :----: | :-----: | -----:\n",
    "3   | 1 | Correct Score | 4\n",
    "2  | 0  | Correct Team | 2\n",
    "2  | 2  | Draw but not a Draw | 0\n",
    "1  | 3  | Wrong Team Won| 0"
   ]
  },
  {
   "cell_type": "code",
   "execution_count": null,
   "metadata": {
    "dotnet_interactive": {
     "language": "csharp"
    }
   },
   "outputs": [],
   "source": [
    "\n",
    "\n",
    "//display(ExampleMatchResult);"
   ]
  },
  {
   "cell_type": "code",
   "execution_count": null,
   "metadata": {
    "dotnet_interactive": {
     "language": "csharp"
    }
   },
   "outputs": [],
   "source": [
    "struct PlayerGuess\n",
    "{\n",
    "    public int home_guess {get; set;}\n",
    "    public int away_guess {get; set;}\n",
    "}\n",
    "//Correct Score 3 - 1\n",
    "PlayerGuess ExampleCorrectGuess;\n",
    "ExampleCorrectGuess.home_guess = 3;\n",
    "ExampleCorrectGuess.away_guess = 1;\n",
    "\n",
    "//display(ExampleCorrectGuess);"
   ]
  },
  {
   "cell_type": "code",
   "execution_count": null,
   "metadata": {
    "dotnet_interactive": {
     "language": "csharp"
    }
   },
   "outputs": [],
   "source": [
    "PlayerGuess ExampleMatchResult;\n",
    "ExampleMatchResult.home_guess = 3;\n",
    "ExampleMatchResult.away_guess = 1;"
   ]
  },
  {
   "cell_type": "code",
   "execution_count": null,
   "metadata": {
    "dotnet_interactive": {
     "language": "csharp"
    }
   },
   "outputs": [],
   "source": [
    "PlayerGuess ExampleCorrectTeamGuess;\n",
    "ExampleCorrectTeamGuess.home_guess = 2;\n",
    "ExampleCorrectTeamGuess.away_guess = 0;"
   ]
  },
  {
   "cell_type": "code",
   "execution_count": null,
   "metadata": {
    "dotnet_interactive": {
     "language": "csharp"
    }
   },
   "outputs": [],
   "source": [
    "PlayerGuess ExampleDrawButNotADrawGuess;\n",
    "ExampleDrawButNotADrawGuess.home_guess = 2;\n",
    "ExampleDrawButNotADrawGuess.away_guess = 2;"
   ]
  },
  {
   "cell_type": "code",
   "execution_count": null,
   "metadata": {
    "dotnet_interactive": {
     "language": "csharp"
    }
   },
   "outputs": [],
   "source": [
    "PlayerGuess ExampleWrongTeamWonGuess;\n",
    "ExampleWrongTeamWonGuess.home_guess = 1;\n",
    "ExampleWrongTeamWonGuess.away_guess = 3;"
   ]
  },
  {
   "cell_type": "code",
   "execution_count": null,
   "metadata": {
    "dotnet_interactive": {
     "language": "csharp"
    }
   },
   "outputs": [
    {
     "name": "stdout",
     "output_type": "stream",
     "text": [
      "Example Match Result\r\n"
     ]
    },
    {
     "data": {
      "text/html": [
       "<table><thead><tr><th>home_guess</th><th>away_guess</th></tr></thead><tbody><tr><td><div class=\"dni-plaintext\">3</div></td><td><div class=\"dni-plaintext\">1</div></td></tr></tbody></table>"
      ]
     },
     "metadata": {},
     "output_type": "display_data"
    },
    {
     "name": "stdout",
     "output_type": "stream",
     "text": [
      "Example Correct Guess\r\n"
     ]
    },
    {
     "data": {
      "text/html": [
       "<table><thead><tr><th>home_guess</th><th>away_guess</th></tr></thead><tbody><tr><td><div class=\"dni-plaintext\">3</div></td><td><div class=\"dni-plaintext\">1</div></td></tr></tbody></table>"
      ]
     },
     "metadata": {},
     "output_type": "display_data"
    },
    {
     "name": "stdout",
     "output_type": "stream",
     "text": [
      "Example Correct Team Guess\r\n"
     ]
    },
    {
     "data": {
      "text/html": [
       "<table><thead><tr><th>home_guess</th><th>away_guess</th></tr></thead><tbody><tr><td><div class=\"dni-plaintext\">2</div></td><td><div class=\"dni-plaintext\">0</div></td></tr></tbody></table>"
      ]
     },
     "metadata": {},
     "output_type": "display_data"
    },
    {
     "name": "stdout",
     "output_type": "stream",
     "text": [
      "Example Draw but not a Draw Guess\r\n"
     ]
    },
    {
     "data": {
      "text/html": [
       "<table><thead><tr><th>home_guess</th><th>away_guess</th></tr></thead><tbody><tr><td><div class=\"dni-plaintext\">2</div></td><td><div class=\"dni-plaintext\">2</div></td></tr></tbody></table>"
      ]
     },
     "metadata": {},
     "output_type": "display_data"
    },
    {
     "name": "stdout",
     "output_type": "stream",
     "text": [
      "Example Wrong team Won Guess\r\n"
     ]
    },
    {
     "data": {
      "text/html": [
       "<table><thead><tr><th>home_guess</th><th>away_guess</th></tr></thead><tbody><tr><td><div class=\"dni-plaintext\">1</div></td><td><div class=\"dni-plaintext\">3</div></td></tr></tbody></table>"
      ]
     },
     "metadata": {},
     "output_type": "display_data"
    }
   ],
   "source": [
    "bool DisplayInfo = true;\n",
    "\n",
    "if (DisplayInfo)\n",
    "{\n",
    "Console.WriteLine(\"Example Match Result\");\n",
    "display(ExampleMatchResult);\n",
    "\n",
    "Console.WriteLine(\"Example Correct Guess\");\n",
    "display(ExampleCorrectGuess);\n",
    "\n",
    "Console.WriteLine(\"Example Correct Team Guess\");\n",
    "display(ExampleCorrectTeamGuess);\n",
    "\n",
    "Console.WriteLine(\"Example Draw but not a Draw Guess\");\n",
    "display(ExampleDrawButNotADrawGuess);\n",
    "\n",
    "Console.WriteLine(\"Example Wrong team Won Guess\");\n",
    "display(ExampleWrongTeamWonGuess);\n",
    "}\n",
    "else\n",
    "{\n",
    "    Console.WriteLine(\"Displaying Detailed Info is disabled\");\n",
    "}"
   ]
  },
  {
   "cell_type": "code",
   "execution_count": null,
   "metadata": {
    "dotnet_interactive": {
     "language": "csharp"
    }
   },
   "outputs": [
    {
     "data": {
      "text/html": [
       "<table><thead><tr><th><i>index</i></th><th>home_guess</th><th>away_guess</th></tr></thead><tbody><tr><td>0</td><td><div class=\"dni-plaintext\">3</div></td><td><div class=\"dni-plaintext\">1</div></td></tr><tr><td>1</td><td><div class=\"dni-plaintext\">2</div></td><td><div class=\"dni-plaintext\">0</div></td></tr><tr><td>2</td><td><div class=\"dni-plaintext\">2</div></td><td><div class=\"dni-plaintext\">2</div></td></tr><tr><td>3</td><td><div class=\"dni-plaintext\">1</div></td><td><div class=\"dni-plaintext\">3</div></td></tr></tbody></table>"
      ]
     },
     "metadata": {},
     "output_type": "display_data"
    }
   ],
   "source": [
    "bool IsGuessCorrect = ExampleCorrectGuess.Equals(ExampleMatchResult);\n",
    "List<PlayerGuess> ListOfGuesses = new List<PlayerGuess>()\n",
    "{\n",
    "    ExampleCorrectGuess,\n",
    "ExampleCorrectTeamGuess,\n",
    "ExampleDrawButNotADrawGuess,\n",
    "ExampleWrongTeamWonGuess\n",
    "};\n",
    "display(ListOfGuesses);\n"
   ]
  },
  {
   "cell_type": "code",
   "execution_count": null,
   "metadata": {
    "dotnet_interactive": {
     "language": "csharp"
    }
   },
   "outputs": [],
   "source": [
    " struct PointsToAward\n",
    "{\n",
    "    public static int CorrectScore = 4;\n",
    "    public static int CorrectTeamWon = 2;\n",
    "    public static int CorrectDrawScore = 5;\n",
    "    public static int IsADraw = 1;\n",
    "    public static int WrongTeamWon = 0;\n",
    "    public static int WronglyGuessedDraw = 0;\n",
    "}"
   ]
  },
  {
   "cell_type": "code",
   "execution_count": null,
   "metadata": {
    "dotnet_interactive": {
     "language": "csharp"
    }
   },
   "outputs": [],
   "source": [
    "int CheckGuess(PlayerGuess matchResult, PlayerGuess aPlayerGuess)\n",
    "{\n",
    "    bool resultHomeTeamWon = false;\n",
    "    bool resultAwayTeamWon = false;\n",
    "    bool resultIsDraw = false;\n",
    "\n",
    "    bool guessHomeTeamWon = false;\n",
    "    bool guessAwayTeamWon = false;\n",
    "    bool guessIsDraw = false;\n",
    "\n",
    "    //Check Winning Team of match result\n",
    "    if (matchResult.home_guess > matchResult.away_guess)\n",
    "    {\n",
    "        resultHomeTeamWon = true;\n",
    "        Console.WriteLine(\"Acutal Home Team Won!\");\n",
    "    }\n",
    "    else if (matchResult.away_guess > matchResult.home_guess)\n",
    "    {\n",
    "        resultAwayTeamWon = true;\n",
    "        Console.WriteLine(\"Acutal Away Team Won!\");\n",
    "    }\n",
    "    else if (matchResult.home_guess == matchResult.away_guess)\n",
    "    {\n",
    "        resultIsDraw = true;\n",
    "        Console.WriteLine(\"Actual It's a Draw!\");\n",
    "    }\n",
    "\n",
    "    //Check Winning Team of guess\n",
    "    if (aPlayerGuess.home_guess > aPlayerGuess.away_guess)\n",
    "    {\n",
    "        guessHomeTeamWon = true;\n",
    "        Console.WriteLine(\"Guessed Home Team Won!\");\n",
    "    }\n",
    "    else if (aPlayerGuess.away_guess > aPlayerGuess.home_guess)\n",
    "    {\n",
    "        guessAwayTeamWon = true;\n",
    "        Console.WriteLine(\"Guessed Away Team Won!\");\n",
    "    }\n",
    "    else if (aPlayerGuess.home_guess == aPlayerGuess.away_guess)\n",
    "    {\n",
    "        guessIsDraw = true;\n",
    "        Console.WriteLine(\"Guessed It's a Draw!\");\n",
    "    }\n",
    "\n",
    "\n",
    "    //Correct Guess\n",
    "    if (matchResult.Equals(aPlayerGuess))\n",
    "    {\n",
    "        Console.WriteLine(\"Congratulations you guessed the correct score! You have won 4 Points!\");\n",
    "        Console.WriteLine();\n",
    "        return PointsToAward.CorrectScore;\n",
    "    }\n",
    "\n",
    "    //CorrectTeam Won - Which team scored higher?\n",
<<<<<<< HEAD
    "    if (resultHomeTeamWon && guessHomeTeamWon || resultAwayTeamWon && guessAwayTeamWon)\n",
=======
    "    if (resultHomeTeamWon && guessHomeTeamWon)\n",
>>>>>>> bd84437413e02cb3ddc60467fb8d22ddfd173187
    "    {\n",
    "        Console.WriteLine(\"Congratulations you guessed the correct winning Team! You have won 2 Points!\");\n",
    "        Console.WriteLine();\n",
    "        return PointsToAward.CorrectTeamWon;\n",
    "    }\n",
    "\n",
    "    //CorrectDrawScore Home team == Away team && guess away == guess home or just redundant because .Equals covers it ha :)\n",
    "\n",
    "    //ToDo - IsADraw Home team == Away team\n",
    "    if(resultIsDraw && guessIsDraw)\n",
    "    {\n",
    "        Console.WriteLine(\"You guessed it would be a draw and it is but you didn't guess the correct score. You have earned 1 point!\");\n",
    "        Console.WriteLine();\n",
    "        return PointsToAward.IsADraw;\n",
    "    }\n",
    "\n",
    "    //Result is not a draw but guess is a draw\n",
    "    if(!resultIsDraw && guessIsDraw)\n",
    "    {\n",
    "        Console.WriteLine(\"You guessed it would be a draw but it's not. You don't get any points\");\n",
    "        Console.WriteLine();\n",
    "        return PointsToAward.WronglyGuessedDraw;\n",
    "    }\n",
    "\n",
<<<<<<< HEAD
    "    //ToDo - WrongTeamWon - Home tram > Away Team etc... It's covered by evaluating every other possibility?\n",
    "    if (resultHomeTeamWon && guessAwayTeamWon || resultAwayTeamWon && guessHomeTeamWon)\n",
    "    {\n",
    "        Console.WriteLine(\"Sorry you didn't win any points becasue the wrong Team Won\");\n",
    "        Console.WriteLine();\n",
    "        return PointsToAward.WrongTeamWon;\n",
    "    }\n",
    "\n",
    "    Console.Error.WriteLine(\"Sorry: Unexpected Result and Guess\");\n",
=======
    "    Console.WriteLine(\"Sorry you didn't win any points\");\n",
    "    Console.WriteLine();\n",
>>>>>>> bd84437413e02cb3ddc60467fb8d22ddfd173187
    "    return 0;\n",
    "}"
   ]
  },
  {
   "cell_type": "code",
   "execution_count": null,
   "metadata": {
    "dotnet_interactive": {
     "language": "csharp"
    }
   },
   "outputs": [
    {
     "name": "stdout",
     "output_type": "stream",
     "text": [
      "Acutal Home Team Won!\r\n",
      "Guessed Home Team Won!\r\n",
      "Congratulations you guessed the correct score! You have won 4 Points!\r\n",
      "\r\n",
      "Acutal Home Team Won!\r\n",
      "Guessed Home Team Won!\r\n",
      "Congratulations you guessed the correct winning Team! You have won 2 Points!\r\n",
      "\r\n",
      "Acutal Home Team Won!\r\n",
      "Guessed Away Team Won!\r\n",
<<<<<<< HEAD
      "Sorry you didn't win any points becasue the wrong Team Won\r\n",
      "\r\n",
      "Acutal Home Team Won!\r\n",
      "Guessed It's a Draw!\r\n",
      "You guessed it would be a draw but it's not. You don't get any points\r\n",
=======
      "Sorry you didn't win any points\r\n",
      "\r\n",
      "Acutal Home Team Won!\r\n",
      "Guessed It's a Draw!\r\n",
      "Sorry you didn't win any points\r\n",
>>>>>>> bd84437413e02cb3ddc60467fb8d22ddfd173187
      "\r\n"
     ]
    }
   ],
   "source": [
    "CheckGuess(ExampleMatchResult, ExampleCorrectGuess);\n",
    "CheckGuess(ExampleMatchResult, ExampleCorrectTeamGuess);\n",
    "CheckGuess(ExampleMatchResult, ExampleWrongTeamWonGuess);\n",
    "CheckGuess(ExampleMatchResult, ExampleDrawButNotADrawGuess);"
   ]
  },
  {
   "cell_type": "code",
   "execution_count": null,
   "metadata": {
    "dotnet_interactive": {
     "language": "csharp"
    }
   },
   "outputs": [
    {
     "name": "stdout",
     "output_type": "stream",
     "text": [
<<<<<<< HEAD
      "Acutal Away Team Won!\r\n",
      "Guessed Away Team Won!\r\n",
      "Congratulations you guessed the correct winning Team! You have won 2 Points!\r\n",
      "\r\n"
     ]
    }
   ],
   "source": [
    "PlayerGuess ExampleReusltAwayWin;\n",
    "ExampleReusltAwayWin.home_guess = 1;\n",
    "ExampleReusltAwayWin.away_guess = 4;\n",
    "\n",
    "PlayerGuess ExampleGuessAwayWin;\n",
    "ExampleGuessAwayWin.home_guess = 3;\n",
    "ExampleGuessAwayWin.away_guess = 5;\n",
    "\n",
    "CheckGuess(ExampleReusltAwayWin, ExampleGuessAwayWin);\n"
   ]
  },
  {
   "cell_type": "code",
   "execution_count": null,
   "metadata": {
    "dotnet_interactive": {
     "language": "csharp"
    }
   },
   "outputs": [
    {
     "name": "stdout",
     "output_type": "stream",
     "text": [
=======
>>>>>>> bd84437413e02cb3ddc60467fb8d22ddfd173187
      "Actual It's a Draw!\r\n",
      "Guessed It's a Draw!\r\n",
      "Congratulations you guessed the correct score! You have won 4 Points!\r\n",
      "\r\n",
      "Actual It's a Draw!\r\n",
      "Guessed It's a Draw!\r\n",
      "You guessed it would be a draw and it is but you didn't guess the correct score. You have earned 1 point!\r\n",
      "\r\n",
      "Actual It's a Draw!\r\n",
      "Guessed It's a Draw!\r\n",
      "You guessed it would be a draw and it is but you didn't guess the correct score. You have earned 1 point!\r\n",
<<<<<<< HEAD
      "\r\n",
      "Actual It's a Draw!\r\n",
      "Guessed It's a Draw!\r\n",
      "You guessed it would be a draw and it is but you didn't guess the correct score. You have earned 1 point!\r\n",
=======
>>>>>>> bd84437413e02cb3ddc60467fb8d22ddfd173187
      "\r\n"
     ]
    }
   ],
   "source": [
    "PlayerGuess ExampleGuessCorrectDraw;\n",
    "ExampleGuessCorrectDraw.home_guess = 2;\n",
    "ExampleGuessCorrectDraw.away_guess = 2;\n",
    "\n",
    "PlayerGuess ExampleResultDraw;\n",
    "ExampleResultDraw.home_guess = 2;\n",
    "ExampleResultDraw.away_guess = 2;\n",
    "\n",
    "PlayerGuess ExampleGuessWrongDrawScore;\n",
    "ExampleGuessWrongDrawScore.home_guess = 3;\n",
    "ExampleGuessWrongDrawScore.away_guess = 3;\n",
    "\n",
    "PlayerGuess ExampleGuessWrongDrawScore2;\n",
    "ExampleGuessWrongDrawScore2.home_guess = 0;\n",
    "ExampleGuessWrongDrawScore2.away_guess = 0;\n",
    "\n",
    "PlayerGuess ExampleGuessWrongDrawScoreHuge;\n",
    "ExampleGuessWrongDrawScoreHuge.home_guess = 1000000;\n",
    "ExampleGuessWrongDrawScoreHuge.away_guess = 1000000;\n",
    "\n",
    "CheckGuess(ExampleResultDraw, ExampleGuessCorrectDraw );\n",
    "CheckGuess(ExampleResultDraw, ExampleGuessWrongDrawScore);\n",
    "CheckGuess(ExampleResultDraw, ExampleGuessWrongDrawScore2);\n",
<<<<<<< HEAD
    "CheckGuess(ExampleResultDraw, ExampleGuessWrongDrawScoreHuge);\n",
=======
>>>>>>> bd84437413e02cb3ddc60467fb8d22ddfd173187
    "\n"
   ]
  },
  {
   "cell_type": "code",
   "execution_count": null,
   "metadata": {
    "dotnet_interactive": {
     "language": "csharp"
    }
   },
   "outputs": [
    {
     "name": "stdout",
     "output_type": "stream",
     "text": [
      "Acutal Away Team Won!\r\n",
      "Guessed Home Team Won!\r\n",
      "Sorry you didn't win any points becasue the wrong Team Won\r\n",
      "\r\n",
      "Acutal Away Team Won!\r\n",
      "Guessed Home Team Won!\r\n",
      "Sorry you didn't win any points becasue the wrong Team Won\r\n",
      "\r\n",
      "Acutal Away Team Won!\r\n",
      "Guessed It's a Draw!\r\n",
      "You guessed it would be a draw but it's not. You don't get any points\r\n",
      "\r\n",
      "Acutal Away Team Won!\r\n",
      "Guessed Away Team Won!\r\n",
      "Congratulations you guessed the correct winning Team! You have won 2 Points!\r\n",
      "\r\n"
     ]
    }
   ],
   "source": [
    "foreach( PlayerGuess guess in ListOfGuesses)\n",
    "{\n",
    "    CheckGuess(ExampleReusltAwayWin, guess);\n",
    "}"
   ]
  }
 ],
 "metadata": {
  "kernelspec": {
   "display_name": ".NET (C#)",
   "language": "C#",
   "name": ".net-csharp"
  },
  "language_info": {
   "name": "C#"
  }
 },
 "nbformat": 4,
 "nbformat_minor": 2
}
